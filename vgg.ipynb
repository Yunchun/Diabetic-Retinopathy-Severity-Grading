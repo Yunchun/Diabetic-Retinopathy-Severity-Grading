{
 "cells": [
  {
   "cell_type": "markdown",
   "id": "ceb39c11",
   "metadata": {},
   "source": [
    "# Fall 2021 CS543/ECE549 Projects\n",
    "\n",
    "## Grading of Diabetic Retinopathy Severity Level\n"
   ]
  },
  {
   "cell_type": "code",
   "execution_count": 1,
   "id": "74c0f886",
   "metadata": {},
   "outputs": [
    {
     "name": "stderr",
     "output_type": "stream",
     "text": [
      "Using TensorFlow backend.\n"
     ]
    }
   ],
   "source": [
    "import numpy as np \n",
    "import pandas as pd\n",
    "import cv2\n",
    "from PIL import Image\n",
    "import os\n",
    "import matplotlib.pyplot as plt\n",
    "import tensorflow as tf\n",
    "from sklearn.metrics import roc_curve, roc_auc_score\n",
    "from keras import backend as K\n",
    "from tensorflow.keras.applications.vgg16 import VGG16\n",
    "from tensorflow.keras.applications.vgg19 import VGG19\n",
    "from tensorflow.keras.layers import Dense\n",
    "from tensorflow.keras.models import Model, load_model\n",
    "\n",
    "from sklearn.model_selection import train_test_split\n",
    "from tensorflow.keras.preprocessing.image import ImageDataGenerator\n",
    "\n",
    "from tensorflow.keras.callbacks import ModelCheckpoint, ReduceLROnPlateau\n",
    "from sklearn.metrics import roc_auc_score"
   ]
  },
  {
   "cell_type": "code",
   "execution_count": 2,
   "id": "87649fe9",
   "metadata": {},
   "outputs": [],
   "source": [
    "# References: https://www.kaggle.com/varunsharmaml/vgg16-dr\n",
    "# https://www.kaggle.com/swethapailla/machinevision-capsnet-dr"
   ]
  },
  {
   "cell_type": "code",
   "execution_count": 3,
   "id": "1f805b4f",
   "metadata": {},
   "outputs": [
    {
     "data": {
      "text/plain": [
       "[PhysicalDevice(name='/physical_device:GPU:0', device_type='GPU')]"
      ]
     },
     "execution_count": 3,
     "metadata": {},
     "output_type": "execute_result"
    }
   ],
   "source": [
    "os.environ[\"CUDA_VISIBLE_DEVICES\"]=\"0\" \n",
    "tf.config.list_physical_devices('GPU')"
   ]
  },
  {
   "cell_type": "markdown",
   "id": "94fdc82e",
   "metadata": {},
   "source": [
    "# EDA"
   ]
  },
  {
   "cell_type": "code",
   "execution_count": 4,
   "id": "94fcc7b4",
   "metadata": {},
   "outputs": [
    {
     "data": {
      "text/html": [
       "<div>\n",
       "<style scoped>\n",
       "    .dataframe tbody tr th:only-of-type {\n",
       "        vertical-align: middle;\n",
       "    }\n",
       "\n",
       "    .dataframe tbody tr th {\n",
       "        vertical-align: top;\n",
       "    }\n",
       "\n",
       "    .dataframe thead th {\n",
       "        text-align: right;\n",
       "    }\n",
       "</style>\n",
       "<table border=\"1\" class=\"dataframe\">\n",
       "  <thead>\n",
       "    <tr style=\"text-align: right;\">\n",
       "      <th></th>\n",
       "      <th>image</th>\n",
       "      <th>level</th>\n",
       "      <th>filenames</th>\n",
       "    </tr>\n",
       "  </thead>\n",
       "  <tbody>\n",
       "    <tr>\n",
       "      <th>0</th>\n",
       "      <td>10_left</td>\n",
       "      <td>0</td>\n",
       "      <td>10_left.jpeg</td>\n",
       "    </tr>\n",
       "    <tr>\n",
       "      <th>1</th>\n",
       "      <td>10_right</td>\n",
       "      <td>0</td>\n",
       "      <td>10_right.jpeg</td>\n",
       "    </tr>\n",
       "    <tr>\n",
       "      <th>2</th>\n",
       "      <td>13_left</td>\n",
       "      <td>0</td>\n",
       "      <td>13_left.jpeg</td>\n",
       "    </tr>\n",
       "    <tr>\n",
       "      <th>3</th>\n",
       "      <td>13_right</td>\n",
       "      <td>0</td>\n",
       "      <td>13_right.jpeg</td>\n",
       "    </tr>\n",
       "    <tr>\n",
       "      <th>4</th>\n",
       "      <td>15_left</td>\n",
       "      <td>1</td>\n",
       "      <td>15_left.jpeg</td>\n",
       "    </tr>\n",
       "  </tbody>\n",
       "</table>\n",
       "</div>"
      ],
      "text/plain": [
       "      image  level      filenames\n",
       "0   10_left      0   10_left.jpeg\n",
       "1  10_right      0  10_right.jpeg\n",
       "2   13_left      0   13_left.jpeg\n",
       "3  13_right      0  13_right.jpeg\n",
       "4   15_left      1   15_left.jpeg"
      ]
     },
     "execution_count": 4,
     "metadata": {},
     "output_type": "execute_result"
    }
   ],
   "source": [
    "y = pd.read_csv('data\\\\trainLabels.csv')\n",
    "y['filenames'] = [i+\".jpeg\" for i in y['image'].values]\n",
    "\n",
    "y.head()\n"
   ]
  },
  {
   "cell_type": "code",
   "execution_count": 5,
   "id": "47afe0a3",
   "metadata": {},
   "outputs": [
    {
     "data": {
      "text/plain": [
       "0    25810\n",
       "2     5292\n",
       "1     2443\n",
       "3      873\n",
       "4      708\n",
       "Name: level, dtype: int64"
      ]
     },
     "execution_count": 5,
     "metadata": {},
     "output_type": "execute_result"
    },
    {
     "data": {
      "image/png": "[encoded data removed]",
      "text/plain": [
       "<Figure size 432x288 with 1 Axes>"
      ]
     },
     "metadata": {
      "needs_background": "light"
     },
     "output_type": "display_data"
    }
   ],
   "source": [
    "y['level'].hist()\n",
    "y['level'].value_counts()"
   ]
  },
  {
   "cell_type": "markdown",
   "id": "346e3200",
   "metadata": {},
   "source": [
    "# Preparing & Preprocessing Data"
   ]
  },
  {
   "cell_type": "code",
   "execution_count": 6,
   "id": "032a1ad6",
   "metadata": {},
   "outputs": [
    {
     "data": {
      "text/plain": [
       "((24588, 3), (7025, 3), (3513, 3))"
      ]
     },
     "execution_count": 6,
     "metadata": {},
     "output_type": "execute_result"
    }
   ],
   "source": [
    "train_y, val_y = train_test_split(y, test_size=0.3)\n",
    "val_y, test_y = train_test_split(val_y, test_size=1.0/3.0)\n",
    "\n",
    "train_y.shape, val_y.shape, test_y.shape"
   ]
  },
  {
   "cell_type": "code",
   "execution_count": 7,
   "id": "1dfc784f",
   "metadata": {},
   "outputs": [
    {
     "name": "stdout",
     "output_type": "stream",
     "text": [
      "Found 24588 validated image filenames.\n",
      "Found 7025 validated image filenames.\n",
      "Found 3513 validated image filenames.\n"
     ]
    }
   ],
   "source": [
    "# https://www.tensorflow.org/api_docs/python/tf/keras/preprocessing/image/ImageDataGenerator\n",
    "# https://arxiv.org/pdf/1409.1556.pdf\n",
    "\n",
    "vgg_input_size = (224, 224)\n",
    "batch_size = 32\n",
    "\n",
    "\n",
    "datagen = ImageDataGenerator()\n",
    "\n",
    "\n",
    "train_gen = datagen.flow_from_dataframe(\n",
    "                                            dataframe = train_y, directory='data\\\\resized_train\\\\resized_train', x_col='filenames', y_col='level',\n",
    "                                            weight_col=None, target_size=vgg_input_size, color_mode='rgb',\n",
    "                                            classes=None, class_mode='raw', batch_size=batch_size, shuffle=True,\n",
    "                                            seed=None, save_to_dir=None, save_prefix='',\n",
    "                                            save_format='png', subset=None, interpolation='nearest',\n",
    "                                            validate_filenames=True, \n",
    "                                        )\n",
    "\n",
    "val_gen = datagen.flow_from_dataframe(\n",
    "                                            dataframe = val_y, directory='data\\\\resized_train\\\\resized_train', x_col='filenames', y_col='level',\n",
    "                                            weight_col=None, target_size=vgg_input_size, color_mode='rgb',\n",
    "                                            classes=None, class_mode='raw', batch_size=batch_size, shuffle=True,\n",
    "                                            seed=None, save_to_dir=None, save_prefix='',\n",
    "                                            save_format='png', subset=None, interpolation='nearest',\n",
    "                                            validate_filenames=True, \n",
    "                                        )\n",
    "\n",
    "test_gen = datagen.flow_from_dataframe(\n",
    "                                            dataframe = test_y, directory='data\\\\resized_train\\\\resized_train', x_col='filenames', y_col='level',\n",
    "                                            weight_col=None, target_size=vgg_input_size, color_mode='rgb',\n",
    "                                            classes=None, class_mode='raw', batch_size=batch_size, shuffle=True,\n",
    "                                            seed=None, save_to_dir=None, save_prefix='',\n",
    "                                            save_format='png', subset=None, interpolation='nearest',\n",
    "                                            validate_filenames=True, \n",
    "                                        )\n",
    "\n",
    "\n",
    "\n",
    "\n"
   ]
  },
  {
   "cell_type": "markdown",
   "id": "fab931c0",
   "metadata": {},
   "source": [
    "model.fit(\n",
    "        train_gen,\n",
    "        steps_per_epoch=2000,\n",
    "        epochs=50,\n",
    "        validation_data=val_gen,\n",
    "        validation_steps=800)\n"
   ]
  },
  {
   "cell_type": "markdown",
   "id": "60a043ac",
   "metadata": {},
   "source": [
    "# VGG 16 & VGG 19"
   ]
  },
  {
   "cell_type": "code",
   "execution_count": 8,
   "id": "bf674847",
   "metadata": {},
   "outputs": [],
   "source": [
    "\n",
    "dir_0 = 'pretrained_weights\\\\vgg16_weights_tf_dim_ordering_tf_kernels_notop.h5'\n",
    "dir_1 = 'pretrained_weights\\\\vgg19_weights_tf_dim_ordering_tf_kernels_notop.h5'\n",
    "\n",
    "\n",
    "\n",
    "M0 = VGG16(\n",
    "    include_top=False, weights=dir_0, input_tensor=None,\n",
    "    input_shape=(224,224,3),\n",
    "    classifier_activation='softmax'\n",
    ")\n",
    "\n",
    "M1 = VGG19(\n",
    "    include_top=False, weights=dir_1, input_tensor=None,\n",
    "    input_shape=(224,224,3),\n",
    "    classifier_activation='softmax'\n",
    ")\n",
    "\n",
    "\n",
    "M0_og = tf.keras.applications.vgg16.VGG16(\n",
    "    include_top=True, weights='imagenet', input_tensor=None,\n",
    "    input_shape=None, pooling=None, classes=1000,\n",
    "    classifier_activation='softmax'\n",
    ")\n",
    "\n",
    "M1_og = tf.keras.applications.vgg19.VGG19(\n",
    "    include_top=True, weights='imagenet', input_tensor=None,\n",
    "    input_shape=None, pooling=None, classes=1000,\n",
    "    classifier_activation='softmax'\n",
    ")\n",
    "\n",
    "\n",
    "\n",
    "\n"
   ]
  },
  {
   "cell_type": "code",
   "execution_count": 9,
   "id": "372145eb",
   "metadata": {},
   "outputs": [
    {
     "name": "stdout",
     "output_type": "stream",
     "text": [
      "Model: \"vgg16\"\n",
      "_________________________________________________________________\n",
      "Layer (type)                 Output Shape              Param #   \n",
      "=================================================================\n",
      "input_3 (InputLayer)         [(None, 224, 224, 3)]     0         \n",
      "_________________________________________________________________\n",
      "block1_conv1 (Conv2D)        (None, 224, 224, 64)      1792      \n",
      "_________________________________________________________________\n",
      "block1_conv2 (Conv2D)        (None, 224, 224, 64)      36928     \n",
      "_________________________________________________________________\n",
      "block1_pool (MaxPooling2D)   (None, 112, 112, 64)      0         \n",
      "_________________________________________________________________\n",
      "block2_conv1 (Conv2D)        (None, 112, 112, 128)     73856     \n",
      "_________________________________________________________________\n",
      "block2_conv2 (Conv2D)        (None, 112, 112, 128)     147584    \n",
      "_________________________________________________________________\n",
      "block2_pool (MaxPooling2D)   (None, 56, 56, 128)       0         \n",
      "_________________________________________________________________\n",
      "block3_conv1 (Conv2D)        (None, 56, 56, 256)       295168    \n",
      "_________________________________________________________________\n",
      "block3_conv2 (Conv2D)        (None, 56, 56, 256)       590080    \n",
      "_________________________________________________________________\n",
      "block3_conv3 (Conv2D)        (None, 56, 56, 256)       590080    \n",
      "_________________________________________________________________\n",
      "block3_pool (MaxPooling2D)   (None, 28, 28, 256)       0         \n",
      "_________________________________________________________________\n",
      "block4_conv1 (Conv2D)        (None, 28, 28, 512)       1180160   \n",
      "_________________________________________________________________\n",
      "block4_conv2 (Conv2D)        (None, 28, 28, 512)       2359808   \n",
      "_________________________________________________________________\n",
      "block4_conv3 (Conv2D)        (None, 28, 28, 512)       2359808   \n",
      "_________________________________________________________________\n",
      "block4_pool (MaxPooling2D)   (None, 14, 14, 512)       0         \n",
      "_________________________________________________________________\n",
      "block5_conv1 (Conv2D)        (None, 14, 14, 512)       2359808   \n",
      "_________________________________________________________________\n",
      "block5_conv2 (Conv2D)        (None, 14, 14, 512)       2359808   \n",
      "_________________________________________________________________\n",
      "block5_conv3 (Conv2D)        (None, 14, 14, 512)       2359808   \n",
      "_________________________________________________________________\n",
      "block5_pool (MaxPooling2D)   (None, 7, 7, 512)         0         \n",
      "_________________________________________________________________\n",
      "flatten (Flatten)            (None, 25088)             0         \n",
      "_________________________________________________________________\n",
      "fc1 (Dense)                  (None, 4096)              102764544 \n",
      "_________________________________________________________________\n",
      "fc2 (Dense)                  (None, 4096)              16781312  \n",
      "_________________________________________________________________\n",
      "predictions (Dense)          (None, 1000)              4097000   \n",
      "=================================================================\n",
      "Total params: 138,357,544\n",
      "Trainable params: 138,357,544\n",
      "Non-trainable params: 0\n",
      "_________________________________________________________________\n"
     ]
    }
   ],
   "source": [
    "M0_og.summary()"
   ]
  },
  {
   "cell_type": "code",
   "execution_count": 10,
   "id": "0d133747",
   "metadata": {},
   "outputs": [
    {
     "name": "stdout",
     "output_type": "stream",
     "text": [
      "Model: \"vgg19\"\n",
      "_________________________________________________________________\n",
      "Layer (type)                 Output Shape              Param #   \n",
      "=================================================================\n",
      "input_4 (InputLayer)         [(None, 224, 224, 3)]     0         \n",
      "_________________________________________________________________\n",
      "block1_conv1 (Conv2D)        (None, 224, 224, 64)      1792      \n",
      "_________________________________________________________________\n",
      "block1_conv2 (Conv2D)        (None, 224, 224, 64)      36928     \n",
      "_________________________________________________________________\n",
      "block1_pool (MaxPooling2D)   (None, 112, 112, 64)      0         \n",
      "_________________________________________________________________\n",
      "block2_conv1 (Conv2D)        (None, 112, 112, 128)     73856     \n",
      "_________________________________________________________________\n",
      "block2_conv2 (Conv2D)        (None, 112, 112, 128)     147584    \n",
      "_________________________________________________________________\n",
      "block2_pool (MaxPooling2D)   (None, 56, 56, 128)       0         \n",
      "_________________________________________________________________\n",
      "block3_conv1 (Conv2D)        (None, 56, 56, 256)       295168    \n",
      "_________________________________________________________________\n",
      "block3_conv2 (Conv2D)        (None, 56, 56, 256)       590080    \n",
      "_________________________________________________________________\n",
      "block3_conv3 (Conv2D)        (None, 56, 56, 256)       590080    \n",
      "_________________________________________________________________\n",
      "block3_conv4 (Conv2D)        (None, 56, 56, 256)       590080    \n",
      "_________________________________________________________________\n",
      "block3_pool (MaxPooling2D)   (None, 28, 28, 256)       0         \n",
      "_________________________________________________________________\n",
      "block4_conv1 (Conv2D)        (None, 28, 28, 512)       1180160   \n",
      "_________________________________________________________________\n",
      "block4_conv2 (Conv2D)        (None, 28, 28, 512)       2359808   \n",
      "_________________________________________________________________\n",
      "block4_conv3 (Conv2D)        (None, 28, 28, 512)       2359808   \n",
      "_________________________________________________________________\n",
      "block4_conv4 (Conv2D)        (None, 28, 28, 512)       2359808   \n",
      "_________________________________________________________________\n",
      "block4_pool (MaxPooling2D)   (None, 14, 14, 512)       0         \n",
      "_________________________________________________________________\n",
      "block5_conv1 (Conv2D)        (None, 14, 14, 512)       2359808   \n",
      "_________________________________________________________________\n",
      "block5_conv2 (Conv2D)        (None, 14, 14, 512)       2359808   \n",
      "_________________________________________________________________\n",
      "block5_conv3 (Conv2D)        (None, 14, 14, 512)       2359808   \n",
      "_________________________________________________________________\n",
      "block5_conv4 (Conv2D)        (None, 14, 14, 512)       2359808   \n",
      "_________________________________________________________________\n",
      "block5_pool (MaxPooling2D)   (None, 7, 7, 512)         0         \n",
      "_________________________________________________________________\n",
      "flatten (Flatten)            (None, 25088)             0         \n",
      "_________________________________________________________________\n",
      "fc1 (Dense)                  (None, 4096)              102764544 \n",
      "_________________________________________________________________\n",
      "fc2 (Dense)                  (None, 4096)              16781312  \n",
      "_________________________________________________________________\n",
      "predictions (Dense)          (None, 1000)              4097000   \n",
      "=================================================================\n",
      "Total params: 143,667,240\n",
      "Trainable params: 143,667,240\n",
      "Non-trainable params: 0\n",
      "_________________________________________________________________\n"
     ]
    }
   ],
   "source": [
    "M1_og.summary()"
   ]
  },
  {
   "cell_type": "code",
   "execution_count": 11,
   "id": "4e3ea1df",
   "metadata": {},
   "outputs": [
    {
     "name": "stdout",
     "output_type": "stream",
     "text": [
      "Model: \"vgg16\"\n",
      "_________________________________________________________________\n",
      "Layer (type)                 Output Shape              Param #   \n",
      "=================================================================\n",
      "input_1 (InputLayer)         [(None, 224, 224, 3)]     0         \n",
      "_________________________________________________________________\n",
      "block1_conv1 (Conv2D)        (None, 224, 224, 64)      1792      \n",
      "_________________________________________________________________\n",
      "block1_conv2 (Conv2D)        (None, 224, 224, 64)      36928     \n",
      "_________________________________________________________________\n",
      "block1_pool (MaxPooling2D)   (None, 112, 112, 64)      0         \n",
      "_________________________________________________________________\n",
      "block2_conv1 (Conv2D)        (None, 112, 112, 128)     73856     \n",
      "_________________________________________________________________\n",
      "block2_conv2 (Conv2D)        (None, 112, 112, 128)     147584    \n",
      "_________________________________________________________________\n",
      "block2_pool (MaxPooling2D)   (None, 56, 56, 128)       0         \n",
      "_________________________________________________________________\n",
      "block3_conv1 (Conv2D)        (None, 56, 56, 256)       295168    \n",
      "_________________________________________________________________\n",
      "block3_conv2 (Conv2D)        (None, 56, 56, 256)       590080    \n",
      "_________________________________________________________________\n",
      "block3_conv3 (Conv2D)        (None, 56, 56, 256)       590080    \n",
      "_________________________________________________________________\n",
      "block3_pool (MaxPooling2D)   (None, 28, 28, 256)       0         \n",
      "_________________________________________________________________\n",
      "block4_conv1 (Conv2D)        (None, 28, 28, 512)       1180160   \n",
      "_________________________________________________________________\n",
      "block4_conv2 (Conv2D)        (None, 28, 28, 512)       2359808   \n",
      "_________________________________________________________________\n",
      "block4_conv3 (Conv2D)        (None, 28, 28, 512)       2359808   \n",
      "_________________________________________________________________\n",
      "block4_pool (MaxPooling2D)   (None, 14, 14, 512)       0         \n",
      "_________________________________________________________________\n",
      "block5_conv1 (Conv2D)        (None, 14, 14, 512)       2359808   \n",
      "_________________________________________________________________\n",
      "block5_conv2 (Conv2D)        (None, 14, 14, 512)       2359808   \n",
      "_________________________________________________________________\n",
      "block5_conv3 (Conv2D)        (None, 14, 14, 512)       2359808   \n",
      "_________________________________________________________________\n",
      "block5_pool (MaxPooling2D)   (None, 7, 7, 512)         0         \n",
      "=================================================================\n",
      "Total params: 14,714,688\n",
      "Trainable params: 14,714,688\n",
      "Non-trainable params: 0\n",
      "_________________________________________________________________\n"
     ]
    }
   ],
   "source": [
    "M0.summary()"
   ]
  },
  {
   "cell_type": "code",
   "execution_count": 12,
   "id": "56d82965",
   "metadata": {},
   "outputs": [
    {
     "name": "stdout",
     "output_type": "stream",
     "text": [
      "Model: \"vgg19\"\n",
      "_________________________________________________________________\n",
      "Layer (type)                 Output Shape              Param #   \n",
      "=================================================================\n",
      "input_2 (InputLayer)         [(None, 224, 224, 3)]     0         \n",
      "_________________________________________________________________\n",
      "block1_conv1 (Conv2D)        (None, 224, 224, 64)      1792      \n",
      "_________________________________________________________________\n",
      "block1_conv2 (Conv2D)        (None, 224, 224, 64)      36928     \n",
      "_________________________________________________________________\n",
      "block1_pool (MaxPooling2D)   (None, 112, 112, 64)      0         \n",
      "_________________________________________________________________\n",
      "block2_conv1 (Conv2D)        (None, 112, 112, 128)     73856     \n",
      "_________________________________________________________________\n",
      "block2_conv2 (Conv2D)        (None, 112, 112, 128)     147584    \n",
      "_________________________________________________________________\n",
      "block2_pool (MaxPooling2D)   (None, 56, 56, 128)       0         \n",
      "_________________________________________________________________\n",
      "block3_conv1 (Conv2D)        (None, 56, 56, 256)       295168    \n",
      "_________________________________________________________________\n",
      "block3_conv2 (Conv2D)        (None, 56, 56, 256)       590080    \n",
      "_________________________________________________________________\n",
      "block3_conv3 (Conv2D)        (None, 56, 56, 256)       590080    \n",
      "_________________________________________________________________\n",
      "block3_conv4 (Conv2D)        (None, 56, 56, 256)       590080    \n",
      "_________________________________________________________________\n",
      "block3_pool (MaxPooling2D)   (None, 28, 28, 256)       0         \n",
      "_________________________________________________________________\n",
      "block4_conv1 (Conv2D)        (None, 28, 28, 512)       1180160   \n",
      "_________________________________________________________________\n",
      "block4_conv2 (Conv2D)        (None, 28, 28, 512)       2359808   \n",
      "_________________________________________________________________\n",
      "block4_conv3 (Conv2D)        (None, 28, 28, 512)       2359808   \n",
      "_________________________________________________________________\n",
      "block4_conv4 (Conv2D)        (None, 28, 28, 512)       2359808   \n",
      "_________________________________________________________________\n",
      "block4_pool (MaxPooling2D)   (None, 14, 14, 512)       0         \n",
      "_________________________________________________________________\n",
      "block5_conv1 (Conv2D)        (None, 14, 14, 512)       2359808   \n",
      "_________________________________________________________________\n",
      "block5_conv2 (Conv2D)        (None, 14, 14, 512)       2359808   \n",
      "_________________________________________________________________\n",
      "block5_conv3 (Conv2D)        (None, 14, 14, 512)       2359808   \n",
      "_________________________________________________________________\n",
      "block5_conv4 (Conv2D)        (None, 14, 14, 512)       2359808   \n",
      "_________________________________________________________________\n",
      "block5_pool (MaxPooling2D)   (None, 7, 7, 512)         0         \n",
      "=================================================================\n",
      "Total params: 20,024,384\n",
      "Trainable params: 20,024,384\n",
      "Non-trainable params: 0\n",
      "_________________________________________________________________\n"
     ]
    }
   ],
   "source": [
    "M1.summary()"
   ]
  },
  {
   "cell_type": "code",
   "execution_count": 13,
   "id": "3a4b8f48",
   "metadata": {},
   "outputs": [],
   "source": [
    "# https://stackoverflow.com/questions/41032551/how-to-compute-receiving-operating-characteristic-roc-and-auc-in-keras\n",
    "\n",
    "def build_model(model, n_labels):\n",
    "    \n",
    "    \n",
    "    x = model.layers[-2].output\n",
    "    output = Dense(units=n_labels, activation='softmax')(x)\n",
    "    model = Model(inputs=model.input, outputs=output)\n",
    "    \n",
    "    \n",
    "    for layer in model.layers[:12]:\n",
    "        layer.trainable = False\n",
    "    \n",
    "    \n",
    "        \n",
    "    model.compile(optimizer=tf.keras.optimizers.Adam(learning_rate=0.0001), loss='sparse_categorical_crossentropy', metrics=['accuracy'])\n",
    "    \n",
    "    return model\n",
    "\n",
    "    "
   ]
  },
  {
   "cell_type": "code",
   "execution_count": 14,
   "id": "0424680a",
   "metadata": {},
   "outputs": [
    {
     "name": "stdout",
     "output_type": "stream",
     "text": [
      "Model: \"model\"\n",
      "_________________________________________________________________\n",
      "Layer (type)                 Output Shape              Param #   \n",
      "=================================================================\n",
      "input_3 (InputLayer)         [(None, 224, 224, 3)]     0         \n",
      "_________________________________________________________________\n",
      "block1_conv1 (Conv2D)        (None, 224, 224, 64)      1792      \n",
      "_________________________________________________________________\n",
      "block1_conv2 (Conv2D)        (None, 224, 224, 64)      36928     \n",
      "_________________________________________________________________\n",
      "block1_pool (MaxPooling2D)   (None, 112, 112, 64)      0         \n",
      "_________________________________________________________________\n",
      "block2_conv1 (Conv2D)        (None, 112, 112, 128)     73856     \n",
      "_________________________________________________________________\n",
      "block2_conv2 (Conv2D)        (None, 112, 112, 128)     147584    \n",
      "_________________________________________________________________\n",
      "block2_pool (MaxPooling2D)   (None, 56, 56, 128)       0         \n",
      "_________________________________________________________________\n",
      "block3_conv1 (Conv2D)        (None, 56, 56, 256)       295168    \n",
      "_________________________________________________________________\n",
      "block3_conv2 (Conv2D)        (None, 56, 56, 256)       590080    \n",
      "_________________________________________________________________\n",
      "block3_conv3 (Conv2D)        (None, 56, 56, 256)       590080    \n",
      "_________________________________________________________________\n",
      "block3_pool (MaxPooling2D)   (None, 28, 28, 256)       0         \n",
      "_________________________________________________________________\n",
      "block4_conv1 (Conv2D)        (None, 28, 28, 512)       1180160   \n",
      "_________________________________________________________________\n",
      "block4_conv2 (Conv2D)        (None, 28, 28, 512)       2359808   \n",
      "_________________________________________________________________\n",
      "block4_conv3 (Conv2D)        (None, 28, 28, 512)       2359808   \n",
      "_________________________________________________________________\n",
      "block4_pool (MaxPooling2D)   (None, 14, 14, 512)       0         \n",
      "_________________________________________________________________\n",
      "block5_conv1 (Conv2D)        (None, 14, 14, 512)       2359808   \n",
      "_________________________________________________________________\n",
      "block5_conv2 (Conv2D)        (None, 14, 14, 512)       2359808   \n",
      "_________________________________________________________________\n",
      "block5_conv3 (Conv2D)        (None, 14, 14, 512)       2359808   \n",
      "_________________________________________________________________\n",
      "block5_pool (MaxPooling2D)   (None, 7, 7, 512)         0         \n",
      "_________________________________________________________________\n",
      "flatten (Flatten)            (None, 25088)             0         \n",
      "_________________________________________________________________\n",
      "fc1 (Dense)                  (None, 4096)              102764544 \n",
      "_________________________________________________________________\n",
      "fc2 (Dense)                  (None, 4096)              16781312  \n",
      "_________________________________________________________________\n",
      "dense (Dense)                (None, 5)                 20485     \n",
      "=================================================================\n",
      "Total params: 134,281,029\n",
      "Trainable params: 131,365,381\n",
      "Non-trainable params: 2,915,648\n",
      "_________________________________________________________________\n"
     ]
    }
   ],
   "source": [
    "M0 = build_model(M0_og, 5)\n",
    "M0.summary()"
   ]
  },
  {
   "cell_type": "code",
   "execution_count": 15,
   "id": "3487cc42",
   "metadata": {},
   "outputs": [
    {
     "name": "stdout",
     "output_type": "stream",
     "text": [
      "Model: \"model_1\"\n",
      "_________________________________________________________________\n",
      "Layer (type)                 Output Shape              Param #   \n",
      "=================================================================\n",
      "input_4 (InputLayer)         [(None, 224, 224, 3)]     0         \n",
      "_________________________________________________________________\n",
      "block1_conv1 (Conv2D)        (None, 224, 224, 64)      1792      \n",
      "_________________________________________________________________\n",
      "block1_conv2 (Conv2D)        (None, 224, 224, 64)      36928     \n",
      "_________________________________________________________________\n",
      "block1_pool (MaxPooling2D)   (None, 112, 112, 64)      0         \n",
      "_________________________________________________________________\n",
      "block2_conv1 (Conv2D)        (None, 112, 112, 128)     73856     \n",
      "_________________________________________________________________\n",
      "block2_conv2 (Conv2D)        (None, 112, 112, 128)     147584    \n",
      "_________________________________________________________________\n",
      "block2_pool (MaxPooling2D)   (None, 56, 56, 128)       0         \n",
      "_________________________________________________________________\n",
      "block3_conv1 (Conv2D)        (None, 56, 56, 256)       295168    \n",
      "_________________________________________________________________\n",
      "block3_conv2 (Conv2D)        (None, 56, 56, 256)       590080    \n",
      "_________________________________________________________________\n",
      "block3_conv3 (Conv2D)        (None, 56, 56, 256)       590080    \n",
      "_________________________________________________________________\n",
      "block3_conv4 (Conv2D)        (None, 56, 56, 256)       590080    \n",
      "_________________________________________________________________\n",
      "block3_pool (MaxPooling2D)   (None, 28, 28, 256)       0         \n",
      "_________________________________________________________________\n",
      "block4_conv1 (Conv2D)        (None, 28, 28, 512)       1180160   \n",
      "_________________________________________________________________\n",
      "block4_conv2 (Conv2D)        (None, 28, 28, 512)       2359808   \n",
      "_________________________________________________________________\n",
      "block4_conv3 (Conv2D)        (None, 28, 28, 512)       2359808   \n",
      "_________________________________________________________________\n",
      "block4_conv4 (Conv2D)        (None, 28, 28, 512)       2359808   \n",
      "_________________________________________________________________\n",
      "block4_pool (MaxPooling2D)   (None, 14, 14, 512)       0         \n",
      "_________________________________________________________________\n",
      "block5_conv1 (Conv2D)        (None, 14, 14, 512)       2359808   \n",
      "_________________________________________________________________\n",
      "block5_conv2 (Conv2D)        (None, 14, 14, 512)       2359808   \n",
      "_________________________________________________________________\n",
      "block5_conv3 (Conv2D)        (None, 14, 14, 512)       2359808   \n",
      "_________________________________________________________________\n",
      "block5_conv4 (Conv2D)        (None, 14, 14, 512)       2359808   \n",
      "_________________________________________________________________\n",
      "block5_pool (MaxPooling2D)   (None, 7, 7, 512)         0         \n",
      "_________________________________________________________________\n",
      "flatten (Flatten)            (None, 25088)             0         \n",
      "_________________________________________________________________\n",
      "fc1 (Dense)                  (None, 4096)              102764544 \n",
      "_________________________________________________________________\n",
      "fc2 (Dense)                  (None, 4096)              16781312  \n",
      "_________________________________________________________________\n",
      "dense_1 (Dense)              (None, 5)                 20485     \n",
      "=================================================================\n",
      "Total params: 139,590,725\n",
      "Trainable params: 137,265,157\n",
      "Non-trainable params: 2,325,568\n",
      "_________________________________________________________________\n"
     ]
    }
   ],
   "source": [
    "M1 = build_model(M1_og, 5)\n",
    "M1.summary()"
   ]
  },
  {
   "cell_type": "code",
   "execution_count": 16,
   "id": "682e133b",
   "metadata": {
    "scrolled": false
   },
   "outputs": [
    {
     "name": "stderr",
     "output_type": "stream",
     "text": [
      "C:\\Users\\wangh\\AppData\\Roaming\\Python\\Python38\\site-packages\\tensorflow\\python\\keras\\engine\\training.py:1940: UserWarning: `Model.fit_generator` is deprecated and will be removed in a future version. Please use `Model.fit`, which supports generators.\n",
      "  warnings.warn('`Model.fit_generator` is deprecated and '\n"
     ]
    },
    {
     "name": "stdout",
     "output_type": "stream",
     "text": [
      "Epoch 1/10\n",
      "768/768 [==============================] - 121s 149ms/step - loss: 0.8220 - accuracy: 0.7384 - val_loss: 0.7698 - val_accuracy: 0.7453\n",
      "Epoch 2/10\n",
      "768/768 [==============================] - 114s 148ms/step - loss: 0.7352 - accuracy: 0.7560 - val_loss: 0.7695 - val_accuracy: 0.7506\n",
      "Epoch 3/10\n",
      "768/768 [==============================] - 102s 132ms/step - loss: 0.6971 - accuracy: 0.7667 - val_loss: 0.7145 - val_accuracy: 0.7573\n",
      "Epoch 4/10\n",
      "768/768 [==============================] - 115s 150ms/step - loss: 0.6606 - accuracy: 0.7789 - val_loss: 0.6934 - val_accuracy: 0.7610\n",
      "Epoch 5/10\n",
      "768/768 [==============================] - 107s 139ms/step - loss: 0.6267 - accuracy: 0.7915 - val_loss: 0.7183 - val_accuracy: 0.7668\n",
      "Epoch 6/10\n",
      "768/768 [==============================] - 107s 139ms/step - loss: 0.5871 - accuracy: 0.8062 - val_loss: 0.7276 - val_accuracy: 0.7447\n",
      "Epoch 7/10\n",
      "768/768 [==============================] - 108s 140ms/step - loss: 0.5350 - accuracy: 0.8226 - val_loss: 0.7133 - val_accuracy: 0.7654\n",
      "Epoch 8/10\n",
      "768/768 [==============================] - 107s 139ms/step - loss: 0.4851 - accuracy: 0.8397 - val_loss: 0.8002 - val_accuracy: 0.7320\n",
      "Epoch 9/10\n",
      "768/768 [==============================] - 104s 135ms/step - loss: 0.4295 - accuracy: 0.8549 - val_loss: 0.8169 - val_accuracy: 0.7432\n",
      "Epoch 10/10\n",
      "768/768 [==============================] - 107s 138ms/step - loss: 0.3632 - accuracy: 0.8761 - val_loss: 0.9512 - val_accuracy: 0.7661\n",
      "Epoch 1/10\n",
      "768/768 [==============================] - 140s 181ms/step - loss: 0.8492 - accuracy: 0.7355 - val_loss: 0.7828 - val_accuracy: 0.7380\n",
      "Epoch 2/10\n",
      "768/768 [==============================] - 127s 165ms/step - loss: 0.7736 - accuracy: 0.7445 - val_loss: 0.7864 - val_accuracy: 0.7407\n",
      "Epoch 3/10\n",
      "768/768 [==============================] - 126s 163ms/step - loss: 0.7385 - accuracy: 0.7533 - val_loss: 0.7787 - val_accuracy: 0.7453\n",
      "Epoch 4/10\n",
      "768/768 [==============================] - 138s 180ms/step - loss: 0.7109 - accuracy: 0.7626 - val_loss: 0.7116 - val_accuracy: 0.7587\n",
      "Epoch 5/10\n",
      "768/768 [==============================] - 124s 162ms/step - loss: 0.6823 - accuracy: 0.7704 - val_loss: 0.7030 - val_accuracy: 0.7664\n",
      "Epoch 6/10\n",
      "768/768 [==============================] - 129s 167ms/step - loss: 0.6532 - accuracy: 0.7778 - val_loss: 0.7307 - val_accuracy: 0.7647\n",
      "Epoch 7/10\n",
      "768/768 [==============================] - 128s 166ms/step - loss: 0.6262 - accuracy: 0.7904 - val_loss: 0.7024 - val_accuracy: 0.7606\n",
      "Epoch 8/10\n",
      "768/768 [==============================] - 122s 159ms/step - loss: 0.5903 - accuracy: 0.8036 - val_loss: 0.7105 - val_accuracy: 0.7586\n",
      "Epoch 9/10\n",
      "768/768 [==============================] - 130s 169ms/step - loss: 0.5498 - accuracy: 0.8165 - val_loss: 0.7226 - val_accuracy: 0.7516\n",
      "Epoch 10/10\n",
      "768/768 [==============================] - 127s 165ms/step - loss: 0.5041 - accuracy: 0.8330 - val_loss: 0.9034 - val_accuracy: 0.7608\n"
     ]
    }
   ],
   "source": [
    "model_chk_0 = ModelCheckpoint(\"output\\\\vgg16_model.h5\", save_best_only=True, monitor=\"val_accuracy\")\n",
    "model_chk_1 = ModelCheckpoint(\"output\\\\vgg19_model.h5\", save_best_only=True, monitor=\"val_accuracy\")\n",
    "\n",
    "steps_per_epoch = train_gen.n // batch_size\n",
    "validation_steps = val_gen.n // batch_size\n",
    "epochs = 10\n",
    "\n",
    "H0 = M0.fit_generator(train_gen, steps_per_epoch = steps_per_epoch,\n",
    "                    validation_data=val_gen, validation_steps=validation_steps,\n",
    "                    epochs=epochs, workers=4, callbacks=[model_chk_0])\n",
    "\n",
    "H1 = M1.fit_generator(train_gen, steps_per_epoch = steps_per_epoch,\n",
    "                    validation_data=val_gen, validation_steps=validation_steps,\n",
    "                    epochs=epochs, workers=4, callbacks=[model_chk_1])\n",
    "\n"
   ]
  },
  {
   "cell_type": "code",
   "execution_count": 26,
   "id": "423c6e90",
   "metadata": {
    "scrolled": true
   },
   "outputs": [
    {
     "name": "stdout",
     "output_type": "stream",
     "text": [
      "Model is ready to Test\n"
     ]
    }
   ],
   "source": [
    "import numpy as np\n",
    "import matplotlib.pyplot as plt\n",
    "from sklearn import svm, datasets\n",
    "from sklearn.metrics import roc_curve, auc\n",
    "#from sklearn.cross_validation import train_test_split\n",
    "from sklearn.preprocessing import label_binarize\n",
    "from sklearn.multiclass import OneVsRestClassifier\n",
    "from sklearn import metrics\n",
    "from prettytable import PrettyTable\n",
    "# Test model using test dataset\n",
    "def test(model, y_test, test_gen):\n",
    "    \n",
    "    x_test = test_gen\n",
    "    y_pred = model.predict(x_test, batch_size=100)\n",
    "    print(\"Groud Truth values: \",y_test.shape)\n",
    "    print(y_test)\n",
    "    print('-'*40)\n",
    "    print(\"Predicted values: \",y_pred.shape)\n",
    "    print(y_pred)\n",
    "    pred = np.argmax(y_pred, axis=1)\n",
    "    test = np.argmax(y_test, axis=1)\n",
    "    #pred = y_pred.round()\n",
    "    #test = y_test.round()\n",
    "    accuracy = (np.sum(np.argmax(y_pred, 1) == np.argmax(y_test,1))/y_test.shape[0])\n",
    "    precision = metrics.precision_score(test, pred,average='weighted')\n",
    "    recall = metrics.recall_score(test, pred,average='weighted')\n",
    "    f1 = metrics.f1_score(test, pred,average='weighted')\n",
    "    print(\" \")\n",
    "    Cnn_Table = PrettyTable(['vgg Performance Metrics', '%'])\n",
    "  \n",
    "    # Add rows\n",
    "    Cnn_Table.add_row(['Accuracy ',accuracy])\n",
    "    Cnn_Table.add_row(['Precision',precision])\n",
    "    Cnn_Table.add_row(['Recall/Sensitivity   ',recall])\n",
    "    Cnn_Table.add_row(['F1_score ',f1])\n",
    "    #myTable.add_row(['MLP_Confusion_Matrix',matrix])\n",
    "\n",
    "    print(Cnn_Table)\n",
    "\n",
    "    #Confusion Matrix\n",
    "    print(\" \")\n",
    "    matrix = metrics.confusion_matrix(test, pred)\n",
    "    print(\" \")\n",
    "    print('vgg_Confusion_Matrix:')\n",
    "    print(\" \")\n",
    "    print(matrix)\n",
    "    print(\" \")\n",
    "    \n",
    "    print(\"classification_report: \")\n",
    "    print('-'*40)\n",
    "    print(metrics.classification_report(test, pred))\n",
    "    \n",
    "    \n",
    "   \n",
    "    \n",
    "    # Plotting ROC curve\n",
    "    y = y_test\n",
    "    # Binarize the output\n",
    "    y = label_binarize(y, classes=[0, 1, 2, 3, 4])\n",
    "    n_classes = y.shape[1]\n",
    "    \n",
    "    # Compute ROC curve and ROC area for each class\n",
    "    fpr = dict()\n",
    "    tpr = dict()\n",
    "    roc_auc = dict()\n",
    "    for i in range(n_classes):\n",
    "        fpr[i], tpr[i], _ = roc_curve(y_test[:, i], y_pred[:, i])\n",
    "        roc_auc[i] = auc(fpr[i], tpr[i])\n",
    "\n",
    "    # Compute micro-average ROC curve and ROC area\n",
    "    fpr[\"micro\"], tpr[\"micro\"], _ = roc_curve(y_test.ravel(), y_pred.ravel())\n",
    "    roc_auc[\"micro\"] = auc(fpr[\"micro\"], tpr[\"micro\"])\n",
    "    \n",
    "    # Plot ROC for specific class\n",
    "    plt.figure()\n",
    "    lw = 2\n",
    "    plt.plot(fpr[2], tpr[2], color='darkorange',\n",
    "         lw=lw, label='ROC curve (area = %0.2f)' % roc_auc[2])\n",
    "    plt.plot([0, 1], [0, 1], color='navy', lw=lw, linestyle='--')\n",
    "    plt.xlim([0.0, 1.0])\n",
    "    plt.ylim([0.0, 1.05])\n",
    "    plt.xlabel('False Positive Rate')\n",
    "    plt.ylabel('True Positive Rate')\n",
    "    plt.title('ROC Curve - Receiver operating characteristic to specific class')\n",
    "    plt.legend(loc=\"lower right\")\n",
    "    plt.show()\n",
    "    \n",
    "    print(' ')\n",
    "    \n",
    "    # Plot ROC curve for multi class\n",
    "    plt.figure()\n",
    "    plt.plot(fpr[\"micro\"], tpr[\"micro\"],label='micro-average ROC curve (area = {0:0.2f})'\n",
    "               ''.format(roc_auc[\"micro\"]))\n",
    "    for i in range(n_classes):\n",
    "        plt.plot(fpr[i], tpr[i], label='ROC curve of class {0} (area = {1:0.2f})'\n",
    "                                   ''.format(i, roc_auc[i]))\n",
    "\n",
    "    plt.plot([0, 1], [0, 1], 'k--')\n",
    "    plt.xlim([0.0, 1.0])\n",
    "    plt.ylim([0.0, 1.05])\n",
    "    plt.xlabel('False Positive Rate')\n",
    "    plt.ylabel('True Positive Rate')\n",
    "    plt.title('ROC Curve - Receiver operating characteristic to multi-class')\n",
    "    plt.legend(loc=\"lower right\")\n",
    "    plt.show()\n",
    "print(\"Model is ready to Test\")"
   ]
  },
  {
   "cell_type": "code",
   "execution_count": 27,
   "id": "1ed79751",
   "metadata": {},
   "outputs": [
    {
     "data": {
      "text/plain": [
       "array([0, 2, 2, ..., 0, 2, 0], dtype=int64)"
      ]
     },
     "execution_count": 27,
     "metadata": {},
     "output_type": "execute_result"
    }
   ],
   "source": [
    "test_y['level'].values"
   ]
  },
  {
   "cell_type": "code",
   "execution_count": 28,
   "id": "91a2242f",
   "metadata": {},
   "outputs": [
    {
     "data": {
      "text/plain": [
       "array([[1., 0., 0., 0., 0.],\n",
       "       [0., 0., 1., 0., 0.],\n",
       "       [0., 0., 1., 0., 0.],\n",
       "       ...,\n",
       "       [1., 0., 0., 0., 0.],\n",
       "       [0., 0., 1., 0., 0.],\n",
       "       [1., 0., 0., 0., 0.]], dtype=float32)"
      ]
     },
     "execution_count": 28,
     "metadata": {},
     "output_type": "execute_result"
    }
   ],
   "source": [
    "from tensorflow.keras.utils import to_categorical\n",
    "\n",
    "y_test = test_y['level'].map(lambda x: to_categorical(x, 5))\n",
    "y_test = np.asarray(list(y_test))\n",
    "y_test"
   ]
  },
  {
   "cell_type": "code",
   "execution_count": 29,
   "id": "772e6acd",
   "metadata": {},
   "outputs": [
    {
     "name": "stdout",
     "output_type": "stream",
     "text": [
      "Groud Truth values:  (3513, 5)\n",
      "[[1. 0. 0. 0. 0.]\n",
      " [0. 0. 1. 0. 0.]\n",
      " [0. 0. 1. 0. 0.]\n",
      " ...\n",
      " [1. 0. 0. 0. 0.]\n",
      " [0. 0. 1. 0. 0.]\n",
      " [1. 0. 0. 0. 0.]]\n",
      "----------------------------------------\n",
      "Predicted values:  (3513, 5)\n",
      "[[8.1800735e-01 1.7436899e-01 7.1452865e-03 4.4646030e-04 3.1919844e-05]\n",
      " [9.7836041e-01 2.0387776e-02 1.2336988e-03 1.7042912e-05 1.0870384e-06]\n",
      " [9.6300596e-01 3.6425717e-02 5.6193757e-04 6.3218763e-06 7.2327509e-08]\n",
      " ...\n",
      " [9.7302926e-01 2.5730841e-02 1.2242039e-03 1.5218734e-05 4.4838654e-07]\n",
      " [9.9667871e-01 3.1287947e-03 1.8865250e-04 3.5518881e-06 2.3280158e-07]\n",
      " [9.6640956e-01 2.9532392e-02 3.9316053e-03 1.1640793e-04 1.0125416e-05]]\n",
      " \n",
      "+-------------------------+--------------------+\n",
      "| vgg Performance Metrics |         %          |\n",
      "+-------------------------+--------------------+\n",
      "|        Accuracy         | 0.6641047537717051 |\n",
      "|        Precision        | 0.5646885694330759 |\n",
      "|  Recall/Sensitivity     | 0.6641047537717051 |\n",
      "|        F1_score         | 0.6014093121258453 |\n",
      "+-------------------------+--------------------+\n",
      " \n",
      " \n",
      "vgg_Confusion_Matrix:\n",
      " \n",
      "[[2275   17  176   27   37]\n",
      " [ 233    3   16    1    5]\n",
      " [ 487    7   53   13    5]\n",
      " [  70    1    4    1    0]\n",
      " [  73    0    7    1    1]]\n",
      " \n",
      "classification_report: \n",
      "----------------------------------------\n",
      "              precision    recall  f1-score   support\n",
      "\n",
      "           0       0.72      0.90      0.80      2532\n",
      "           1       0.11      0.01      0.02       258\n",
      "           2       0.21      0.09      0.13       565\n",
      "           3       0.02      0.01      0.02        76\n",
      "           4       0.02      0.01      0.02        82\n",
      "\n",
      "    accuracy                           0.66      3513\n",
      "   macro avg       0.22      0.21      0.20      3513\n",
      "weighted avg       0.56      0.66      0.60      3513\n",
      "\n"
     ]
    },
    {
     "data": {
      "image/png": "[encoded data removed]",
      "text/plain": [
       "<Figure size 432x288 with 1 Axes>"
      ]
     },
     "metadata": {
      "needs_background": "light"
     },
     "output_type": "display_data"
    },
    {
     "name": "stdout",
     "output_type": "stream",
     "text": [
      " \n"
     ]
    },
    {
     "data": {
      "image/png": "[encoded data removed]",
      "text/plain": [
       "<Figure size 432x288 with 1 Axes>"
      ]
     },
     "metadata": {
      "needs_background": "light"
     },
     "output_type": "display_data"
    }
   ],
   "source": [
    "test(M0, y_test, test_gen)"
   ]
  },
  {
   "cell_type": "code",
   "execution_count": 30,
   "id": "5dba4ed6",
   "metadata": {},
   "outputs": [
    {
     "name": "stdout",
     "output_type": "stream",
     "text": [
      "Groud Truth values:  (3513, 5)\n",
      "[[1. 0. 0. 0. 0.]\n",
      " [0. 0. 1. 0. 0.]\n",
      " [0. 0. 1. 0. 0.]\n",
      " ...\n",
      " [1. 0. 0. 0. 0.]\n",
      " [0. 0. 1. 0. 0.]\n",
      " [1. 0. 0. 0. 0.]]\n",
      "----------------------------------------\n",
      "Predicted values:  (3513, 5)\n",
      "[[9.5748192e-01 3.3855233e-02 8.6265132e-03 3.4030258e-05 2.2501777e-06]\n",
      " [9.3999517e-01 4.0085118e-02 1.9648623e-02 2.3121154e-04 3.9778708e-05]\n",
      " [9.2756176e-01 4.1610029e-02 3.0551836e-02 2.1872051e-04 5.7702800e-05]\n",
      " ...\n",
      " [8.4029639e-01 1.1653868e-01 4.2650435e-02 4.5132308e-04 6.3209867e-05]\n",
      " [9.1003144e-01 4.9873542e-02 3.8035862e-02 1.3733261e-03 6.8585976e-04]\n",
      " [9.6592462e-01 2.4256324e-02 9.7209439e-03 8.0541475e-05 1.7602337e-05]]\n",
      " \n",
      "+-------------------------+--------------------+\n",
      "| vgg Performance Metrics |         %          |\n",
      "+-------------------------+--------------------+\n",
      "|        Accuracy         | 0.6874466268146883 |\n",
      "|        Precision        | 0.5434703791159176 |\n",
      "|  Recall/Sensitivity     | 0.6874466268146883 |\n",
      "|        F1_score         |  0.59977640238316  |\n",
      "+-------------------------+--------------------+\n",
      " \n",
      " \n",
      "vgg_Confusion_Matrix:\n",
      " \n",
      "[[2392    1  104   15   20]\n",
      " [ 235    0   22    0    1]\n",
      " [ 539    0   23    2    1]\n",
      " [  74    0    2    0    0]\n",
      " [  77    0    5    0    0]]\n",
      " \n",
      "classification_report: \n",
      "----------------------------------------\n",
      "              precision    recall  f1-score   support\n",
      "\n",
      "           0       0.72      0.94      0.82      2532\n",
      "           1       0.00      0.00      0.00       258\n",
      "           2       0.15      0.04      0.06       565\n",
      "           3       0.00      0.00      0.00        76\n",
      "           4       0.00      0.00      0.00        82\n",
      "\n",
      "    accuracy                           0.69      3513\n",
      "   macro avg       0.17      0.20      0.18      3513\n",
      "weighted avg       0.54      0.69      0.60      3513\n",
      "\n"
     ]
    },
    {
     "data": {
      "image/png": "[encoded data removed]",
      "text/plain": [
       "<Figure size 432x288 with 1 Axes>"
      ]
     },
     "metadata": {
      "needs_background": "light"
     },
     "output_type": "display_data"
    },
    {
     "name": "stdout",
     "output_type": "stream",
     "text": [
      " \n"
     ]
    },
    {
     "data": {
      "image/png": "[encoded data removed]",
      "text/plain": [
       "<Figure size 432x288 with 1 Axes>"
      ]
     },
     "metadata": {
      "needs_background": "light"
     },
     "output_type": "display_data"
    }
   ],
   "source": [
    "test(M1, y_test, test_gen)"
   ]
  },
  {
   "cell_type": "code",
   "execution_count": 32,
   "id": "498179d4",
   "metadata": {},
   "outputs": [
    {
     "name": "stderr",
     "output_type": "stream",
     "text": [
      "C:\\Users\\wangh\\AppData\\Roaming\\Python\\Python38\\site-packages\\tensorflow\\python\\keras\\engine\\training.py:1973: UserWarning: `Model.evaluate_generator` is deprecated and will be removed in a future version. Please use `Model.evaluate`, which supports generators.\n",
      "  warnings.warn('`Model.evaluate_generator` is deprecated and '\n"
     ]
    },
    {
     "name": "stdout",
     "output_type": "stream",
     "text": [
      "109/109 [==============================] - 23s 210ms/step - loss: 0.9989 - accuracy: 0.7543\n"
     ]
    },
    {
     "data": {
      "text/plain": [
       "[0.9988712668418884, 0.7543410062789917]"
      ]
     },
     "execution_count": 32,
     "metadata": {},
     "output_type": "execute_result"
    }
   ],
   "source": [
    "M0.evaluate_generator(test_gen, steps=test_gen.n/batch_size, verbose=1)"
   ]
  },
  {
   "cell_type": "code",
   "execution_count": 33,
   "id": "449fad02",
   "metadata": {},
   "outputs": [
    {
     "name": "stdout",
     "output_type": "stream",
     "text": [
      "109/109 [==============================] - 23s 210ms/step - loss: 0.9150 - accuracy: 0.7571\n"
     ]
    },
    {
     "data": {
      "text/plain": [
       "[0.9150334000587463, 0.7571022510528564]"
      ]
     },
     "execution_count": 33,
     "metadata": {},
     "output_type": "execute_result"
    }
   ],
   "source": [
    "M1.evaluate_generator(val_gen, steps=test_gen.n/batch_size, verbose=1)"
   ]
  },
  {
   "cell_type": "code",
   "execution_count": null,
   "id": "e99aea11",
   "metadata": {},
   "outputs": [],
   "source": []
  }
 ],
 "metadata": {
  "kernelspec": {
   "display_name": "Python 3 (ipykernel)",
   "language": "python",
   "name": "python3"
  },
  "language_info": {
   "codemirror_mode": {
    "name": "ipython",
    "version": 3
   },
   "file_extension": ".py",
   "mimetype": "text/x-python",
   "name": "python",
   "nbconvert_exporter": "python",
   "pygments_lexer": "ipython3",
   "version": "3.8.8"
  }
 },
 "nbformat": 4,
 "nbformat_minor": 5
}
